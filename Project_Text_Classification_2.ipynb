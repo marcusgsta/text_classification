{
 "cells": [
  {
   "cell_type": "code",
   "execution_count": 1,
   "metadata": {},
   "outputs": [
    {
     "data": {
      "text/plain": [
       "0.9866666666666667"
      ]
     },
     "execution_count": 1,
     "metadata": {},
     "output_type": "execute_result"
    }
   ],
   "source": [
    "from sklearn.model_selection import train_test_split\n",
    "import pandas as pd\n",
    "from sklearn.naive_bayes import MultinomialNB\n",
    "    \n",
    "# import dataset\n",
    "df = pd.read_csv(\"./wikipedia_300/wikipedia_300.csv\")\n",
    "\n",
    "# test_size default is 25% (0.25)\n",
    "X_train, X_test, y_train, y_test = train_test_split(df['Text'], df['Category'], random_state = 0)\n",
    "\n",
    "#1. Naive Bayes with no term frequency or inverse document frequency adjustments\n",
    "\n",
    "# Extract word counts as features and vectorize\n",
    "\n",
    "from sklearn.feature_extraction.text import CountVectorizer\n",
    "# min_df=1 means ignore words with word count less than one\n",
    "count_vect = CountVectorizer(min_df=1)\n",
    "X_train_counts = count_vect.fit_transform(X_train)\n",
    "\n",
    "clf = MultinomialNB().fit(X_train_counts, y_train)\n",
    "clf.score(X_train_counts, y_train)\n",
    "#CountVectorizer?\n",
    "#print(vectorizer.get_feature_names())\n",
    "\n",
    "#print(X_train_counts.toarray())  # doctest: +NORMALIZE_WHITESPACE\n",
    "\n"
   ]
  },
  {
   "cell_type": "code",
   "execution_count": 30,
   "metadata": {},
   "outputs": [
    {
     "name": "stdout",
     "output_type": "stream",
     "text": [
      "(225, 43017)\n",
      "(225, 43017)\n"
     ]
    },
    {
     "data": {
      "text/plain": [
       "0.9911111111111112"
      ]
     },
     "execution_count": 30,
     "metadata": {},
     "output_type": "execute_result"
    }
   ],
   "source": [
    "#2. Naive Bayes with term frequency and inverse document frequency adjustments\n",
    "\n",
    "X_train, X_test, y_train, y_test = train_test_split(df['Text'], df['Category'], random_state = 0)\n",
    "\n",
    "X_train_counts = count_vect.fit_transform(X_train)\n",
    "print(X_train_counts.shape)\n",
    "\n",
    "from sklearn.feature_extraction.text import TfidfTransformer\n",
    "tfidf_transformer = TfidfTransformer()\n",
    "X_train_tfidf = tfidf_transformer.fit_transform(X_train_counts)\n",
    "print(X_train_tfidf.shape)\n",
    "\n",
    "clf_tfidf = MultinomialNB().fit(X_train_tfidf, y_train)\n",
    "clf_tfidf.score(X_train_tfidf, y_train)\n"
   ]
  },
  {
   "cell_type": "code",
   "execution_count": 38,
   "metadata": {},
   "outputs": [
    {
     "data": {
      "text/plain": [
       "0.9466666666666667"
      ]
     },
     "execution_count": 38,
     "metadata": {},
     "output_type": "execute_result"
    }
   ],
   "source": [
    "#3. Making a pipeline to make things easier to work with\n",
    "from sklearn.pipeline import Pipeline\n",
    "text_clf = Pipeline([\n",
    "     ('vect', CountVectorizer()),\n",
    "     ('tfidf', TfidfTransformer()),\n",
    "     ('clf', MultinomialNB()),\n",
    "])\n",
    "\n",
    "text_clf.fit(X_train, y_train) \n",
    "\n",
    "import numpy as np\n",
    "#twenty_test = fetch_20newsgroups(subset='test', categories=categories, shuffle=True, random_state=42)\n",
    "docs_test = X_test\n",
    "predicted = text_clf.predict(docs_test)\n",
    "np.mean(predicted == y_test)   \n",
    "#docs_test = X_train\n",
    "#predicted = text_clf.predict(docs_test)\n",
    "#np.mean(predicted == y_train)   \n"
   ]
  },
  {
   "cell_type": "code",
   "execution_count": 40,
   "metadata": {},
   "outputs": [
    {
     "name": "stdout",
     "output_type": "stream",
     "text": [
      "['Games']\n",
      "Games\n",
      "['Games']\n",
      "Programming\n"
     ]
    }
   ],
   "source": [
    "\n",
    "print(clf.predict(count_vect.transform([df['Text'][150]])))\n",
    "#print([df['Text'][1]])\n",
    "print(df['Category'][150])\n",
    "#print(y_test)\n",
    "# X_test: 208, 188, 12 (Programming)\n",
    "print(clf.predict(count_vect.transform([df['Text'][188]])))\n",
    "print(df['Category'][188])"
   ]
  },
  {
   "cell_type": "code",
   "execution_count": 53,
   "metadata": {},
   "outputs": [
    {
     "name": "stdout",
     "output_type": "stream",
     "text": [
      "['Programming']\n"
     ]
    },
    {
     "data": {
      "text/plain": [
       "0.9066666666666666"
      ]
     },
     "execution_count": 53,
     "metadata": {},
     "output_type": "execute_result"
    }
   ],
   "source": [
    "#4. LinearSVC with no tf.idf\n",
    "\n",
    "\n",
    "X_train, X_test, y_train, y_test = train_test_split(df['Text'], df['Category'], random_state = 0)\n",
    "\n",
    "X_train_counts = count_vect.fit_transform(X_train)\n",
    "X_test_counts = count_vect.transform(X_test)\n",
    "from sklearn.svm import LinearSVC\n",
    "\n",
    "LinearClf = LinearSVC(random_state=0, tol=1e-5)\n",
    "LinearClf.fit(X_train_counts, y_train)\n",
    "\n",
    "#print(LinearClf.coef_)\n",
    "#print(LinearClf.intercept_)\n",
    "print(LinearClf.predict(count_vect.transform([df['Text'][188]])))\n",
    "#print(LinearClf.predict(vectorizer.transform([df['Text'][0]])))\n",
    "#print(count_vect.transform([df['Text'][188]]))\n",
    "LinearClf.score(X_train_counts, y_train)\n",
    "LinearClf.score(X_test_counts, y_test)\n",
    "\n"
   ]
  },
  {
   "cell_type": "code",
   "execution_count": 74,
   "metadata": {},
   "outputs": [
    {
     "name": "stdout",
     "output_type": "stream",
     "text": [
      "[0.93333333 0.93333333 0.93333333 0.86666667 0.86666667 0.93333333\n",
      " 0.86666667 0.96666667 0.9        0.93333333]\n"
     ]
    }
   ],
   "source": [
    "# also evaluate accuracy using 10-fold cross validation\n",
    "# Here I should send in ALL values, not just train or test??\n",
    "#KFold?\n",
    "from sklearn.model_selection import KFold, cross_val_score\n",
    "k_fold = KFold(n_splits=10, shuffle=False, random_state=None)\n",
    "#clf = <any classifier>\n",
    "X_all_counts = count_vect.transform(df['Text'])\n",
    "\n",
    "print(cross_val_score(LinearClf, X_all_counts, df['Category'], cv=k_fold, n_jobs=1))\n",
    "#print(LinearClf.score(X_all_counts, df['Category']))\n",
    "\n"
   ]
  },
  {
   "cell_type": "code",
   "execution_count": 72,
   "metadata": {},
   "outputs": [
    {
     "name": "stdout",
     "output_type": "stream",
     "text": [
      "[0.93333333 0.93333333 0.93333333 0.86666667 0.86666667 0.93333333\n",
      " 0.86666667 0.96666667 0.9        0.93333333]\n",
      "0.9766666666666667\n"
     ]
    }
   ],
   "source": [
    "#4. LinearSVC with tf.idf\n",
    "\n",
    "X_train, X_test, y_train, y_test = train_test_split(df['Text'], df['Category'], random_state = 0)\n",
    "\n",
    "X_train_counts = count_vect.fit_transform(X_train)\n",
    "\n",
    "from sklearn.svm import LinearSVC\n",
    "\n",
    "from sklearn.feature_extraction.text import TfidfTransformer\n",
    "tfidf_transformer = TfidfTransformer()\n",
    "X_train_tfidf = tfidf_transformer.fit_transform(X_train_counts)\n",
    "\n",
    "LinearClf2 = LinearSVC(random_state=0, tol=1e-5)\n",
    "LinearClf2 = LinearSVC().fit(X_train_tfidf, y_train)\n",
    "LinearClf2.score(X_train_tfidf, y_train)\n",
    "\n",
    "k_fold = KFold(n_splits=10, shuffle=False, random_state=None)\n",
    "#clf = <any classifier>\n",
    "\n",
    "X_all_counts = count_vect.transform(df['Text'])\n",
    "\n",
    "print(cross_val_score(LinearClf2, X_all_counts, df['Category'], cv=k_fold, n_jobs=1))\n",
    "# I should get different scores here, because I'm using TF.IDF\n",
    "# The model LinearClf2 should be different than the earlier\n",
    "\n",
    "print(LinearClf2.score(X_all_counts, df['Category']))\n"
   ]
  }
 ],
 "metadata": {
  "kernelspec": {
   "display_name": "Python 3",
   "language": "python",
   "name": "python3"
  },
  "language_info": {
   "codemirror_mode": {
    "name": "ipython",
    "version": 3
   },
   "file_extension": ".py",
   "mimetype": "text/x-python",
   "name": "python",
   "nbconvert_exporter": "python",
   "pygments_lexer": "ipython3",
   "version": "3.7.1"
  }
 },
 "nbformat": 4,
 "nbformat_minor": 2
}
