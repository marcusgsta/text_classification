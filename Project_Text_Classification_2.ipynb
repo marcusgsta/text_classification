{
 "cells": [
  {
   "cell_type": "code",
   "execution_count": 26,
   "metadata": {},
   "outputs": [
    {
     "data": {
      "text/plain": [
       "0.9866666666666667"
      ]
     },
     "execution_count": 26,
     "metadata": {},
     "output_type": "execute_result"
    }
   ],
   "source": [
    "from sklearn.model_selection import train_test_split\n",
    "import pandas as pd\n",
    "from sklearn.naive_bayes import MultinomialNB\n",
    "    \n",
    "# import dataset\n",
    "df = pd.read_csv(\"./wikipedia_300/wikipedia_300.csv\")\n",
    "#df['new_column'] = df['Text'].str.count(' ') +1\n",
    "#collections.Counter([y for x in df.values.flatten() for y in x.split()])\n",
    "#print(df.head())\n",
    "from sklearn.feature_extraction.text import CountVectorizer\n",
    "vectorizer = CountVectorizer(min_df=1)\n",
    "\n",
    "#X_train_counts = vectorizer.fit_transform(df['Text'])\n",
    "#X_train_counts.shape \n",
    "\n",
    "#import numpy as np\n",
    "#X = np.random.randint(5, size=(6,100))\n",
    "#y = np.array([1,2,3,4,5,6])\n",
    "#from sklearn.naive_bayes import MultinomialNB\n",
    "#clf = MultinomialNB()\n",
    "#clf.fit(X_train_counts, y_train_counts)\n",
    "\n",
    "X_train, X_test, y_train, y_test = train_test_split(df['Text'], df['Category'], random_state = 0)\n",
    "#count_vect = CountVectorizer()\n",
    "X_train_counts = vectorizer.fit_transform(X_train)\n",
    "#y_train_counts = vectorizer.fit_transform(y_train)\n",
    "#tfidf_transformer = TfidfTransformer()\n",
    "#X_train_tfidf = tfidf_transformer.fit_transform(X_train_counts)\n",
    "#clf = MultinomialNB().fit(X_train_tfidf, y_train)\n",
    "clf = MultinomialNB().fit(X_train_counts, y_train)\n",
    "\n",
    "clf.score(X_train_counts, y_train)\n",
    "\n"
   ]
  },
  {
   "cell_type": "code",
   "execution_count": 23,
   "metadata": {},
   "outputs": [
    {
     "name": "stdout",
     "output_type": "stream",
     "text": [
      "['Games']\n",
      "Games\n"
     ]
    }
   ],
   "source": [
    "\n",
    "\n",
    "print(clf.predict(vectorizer.transform([df['Text'][150]])))\n",
    "#print([df['Text'][1]])\n",
    "print(df['Category'][150])"
   ]
  }
 ],
 "metadata": {
  "kernelspec": {
   "display_name": "Python 3",
   "language": "python",
   "name": "python3"
  },
  "language_info": {
   "codemirror_mode": {
    "name": "ipython",
    "version": 3
   },
   "file_extension": ".py",
   "mimetype": "text/x-python",
   "name": "python",
   "nbconvert_exporter": "python",
   "pygments_lexer": "ipython3",
   "version": "3.7.1"
  }
 },
 "nbformat": 4,
 "nbformat_minor": 2
}
